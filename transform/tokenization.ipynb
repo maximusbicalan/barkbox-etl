{
 "cells": [
  {
   "cell_type": "code",
   "execution_count": 2,
   "metadata": {},
   "outputs": [
    {
     "name": "stderr",
     "output_type": "stream",
     "text": [
      "[nltk_data] Downloading package stopwords to\n",
      "[nltk_data]     /Users/melchorbicalan/nltk_data...\n",
      "[nltk_data]   Package stopwords is already up-to-date!\n",
      "[nltk_data] Downloading package wordnet to\n",
      "[nltk_data]     /Users/melchorbicalan/nltk_data...\n",
      "[nltk_data]   Package wordnet is already up-to-date!\n"
     ]
    },
    {
     "data": {
      "text/plain": [
       "True"
      ]
     },
     "execution_count": 2,
     "metadata": {},
     "output_type": "execute_result"
    }
   ],
   "source": [
    "import nltk as tk \n",
    "from nltk.tokenize import word_tokenize\n",
    "from nltk.corpus import stopwords\n",
    "from nltk.stem import WordNetLemmatizer\n",
    "import re\n",
    "import pandas as pd\n",
    "\n",
    "tk.download('stopwords')\n",
    "tk.download('wordnet')"
   ]
  },
  {
   "cell_type": "code",
   "execution_count": 3,
   "metadata": {},
   "outputs": [],
   "source": [
    "# load cleaned data\n",
    "trustpilot = pd.read_csv('../cleaned_trustpilot_reviews.csv')\n",
    "bbb = pd.read_csv('../cleaned_bbb_reviews.csv')\n"
   ]
  },
  {
   "cell_type": "code",
   "execution_count": 4,
   "metadata": {},
   "outputs": [],
   "source": [
    "# load the text data for nlp\n",
    "trustpilot_corpus1 = trustpilot['Review Body'].values\n",
    "trustpilot_corpus2 = trustpilot['Review Heading'].values\n",
    "bbb_corpus = bbb['Review Body'].values\n"
   ]
  },
  {
   "cell_type": "code",
   "execution_count": 5,
   "metadata": {},
   "outputs": [],
   "source": [
    "\n",
    "# consider cases where review body or review heading contains emojis\n",
    "def remove_emojis(text):\n",
    "    emoji_pattern = re.compile(\n",
    "        \"[\"\n",
    "        \"\\U0001F600-\\U0001F64F\"  # Emoticons\n",
    "        \"\\U0001F300-\\U0001F5FF\"  # Symbols & Pictographs\n",
    "        \"\\U0001F680-\\U0001F6FF\"  # Transport & Map\n",
    "        \"\\U0001F1E0-\\U0001F1FF\"  # Flags (iOS)\n",
    "        \"\\U00002702-\\U000027B0\"  # Dingbats\n",
    "        \"\\U000024C2-\\U0001F251\"  # Enclosed characters\n",
    "        \"]+\", flags=re.UNICODE\n",
    "    )\n",
    "    return emoji_pattern.sub(r'', text)\n",
    "# consider cases where review heading contains ellipsis at the end. Ignore these instances\n",
    "collect_valid_rhead = [remove_emojis(review) for review in trustpilot_corpus2 if review.endswith(('…','...')) == False]\n",
    "# consider cases where review body is null\n",
    "collect_valid_rbody = [remove_emojis(review) for review in trustpilot_corpus1 if type(review) == str]\n"
   ]
  },
  {
   "cell_type": "code",
   "execution_count": 6,
   "metadata": {},
   "outputs": [],
   "source": [
    "# tokenize the texts\n",
    "# each list is a multidimensional lists with varying lengths\n",
    "tokenized_tp_rbody = [word_tokenize(review) for review in collect_valid_rbody]\n",
    "tokenized_tp_rhead = [word_tokenize(review) for review in collect_valid_rhead]\n",
    "tokenized_bbb_rbody = [word_tokenize(review) for review in bbb_corpus]"
   ]
  },
  {
   "cell_type": "code",
   "execution_count": 7,
   "metadata": {},
   "outputs": [
    {
     "data": {
      "text/plain": [
       "198"
      ]
     },
     "execution_count": 7,
     "metadata": {},
     "output_type": "execute_result"
    }
   ],
   "source": [
    "# implement stop words\n",
    "stop_words = set(stopwords.words('english'))\n",
    "len(stop_words)"
   ]
  },
  {
   "cell_type": "code",
   "execution_count": 8,
   "metadata": {},
   "outputs": [],
   "source": [
    "#clean tokenized texts\n",
    "def clean_text(text, stop_words):\n",
    "    cleaned_text = []\n",
    "    for word in text:\n",
    "        if word.lower() not in stop_words:\n",
    "            cleaned_text.append(word)\n",
    "    return cleaned_text\n",
    "\n",
    "cleaned_tp_rbody = [clean_text(review, stop_words) for review in tokenized_tp_rbody]\n",
    "cleaned_tp_rhead = [clean_text(review, stop_words) for review in tokenized_tp_rhead]\n",
    "cleaned_bbb_rbody = [clean_text(review, stop_words) for review in tokenized_bbb_rbody]\n"
   ]
  },
  {
   "cell_type": "code",
   "execution_count": 9,
   "metadata": {},
   "outputs": [],
   "source": [
    "# Lemmatization\n",
    "lemmatizer = WordNetLemmatizer()\n",
    "lemmatized_tp_rbody = [[lemmatizer.lemmatize(word) for word in review] for review in cleaned_tp_rbody]\n",
    "lemmatized_tp_rhead = [[lemmatizer.lemmatize(word) for word in review] for review in cleaned_tp_rhead]\n",
    "lemmatized_bbb_rbody = [[lemmatizer.lemmatize(word) for word in review] for review in cleaned_bbb_rbody]\n"
   ]
  },
  {
   "cell_type": "markdown",
   "metadata": {},
   "source": [
    "# VECTORIZATION"
   ]
  },
  {
   "cell_type": "code",
   "execution_count": null,
   "metadata": {},
   "outputs": [],
   "source": [
    "#join lemmatized words back again\n",
    "lemmatized_tp_rbody_str = [' '.join(review) for review in lemmatized_tp_rbody]\n",
    "lemmatized_tp_rhead_str = [' '.join(review) for review in lemmatized_tp_rhead]\n",
    "lemmatized_bbb_rbody_str = [' '.join(review) for review in lemmatized_bbb_rbody]"
   ]
  },
  {
   "cell_type": "code",
   "execution_count": 31,
   "metadata": {},
   "outputs": [
    {
     "data": {
      "text/plain": [
       "(128, 12734)"
      ]
     },
     "execution_count": 31,
     "metadata": {},
     "output_type": "execute_result"
    }
   ],
   "source": [
    "bbb_reviews_text = lemmatized_bbb_rbody_str\n",
    "trustpilot_reviews_text = lemmatized_tp_rbody_str + lemmatized_tp_rhead_str\n",
    "len(bbb_reviews_text), len(trustpilot_reviews_text)"
   ]
  },
  {
   "cell_type": "code",
   "execution_count": 19,
   "metadata": {},
   "outputs": [],
   "source": [
    "from sklearn.feature_extraction.text import TfidfVectorizer\n",
    "from sklearn.decomposition import NMF"
   ]
  },
  {
   "cell_type": "code",
   "execution_count": 42,
   "metadata": {},
   "outputs": [
    {
     "data": {
      "text/plain": [
       "((12734, 4632), (128, 400))"
      ]
     },
     "execution_count": 42,
     "metadata": {},
     "output_type": "execute_result"
    }
   ],
   "source": [
    "vectorizer1 = TfidfVectorizer(\n",
    "    max_df = 0.95,\n",
    "    min_df = 2,\n",
    ")\n",
    "vectorizer2 = TfidfVectorizer(\n",
    "    max_df = 0.95,\n",
    "    min_df = 2,\n",
    ")\n",
    "X1 = vectorizer1.fit_transform(trustpilot_reviews_text)\n",
    "X2 = vectorizer2.fit_transform(bbb_reviews_text)\n",
    "X1.shape, X2.shape"
   ]
  },
  {
   "cell_type": "code",
   "execution_count": 48,
   "metadata": {},
   "outputs": [],
   "source": [
    "# NMF on Trustpilot\n",
    "nmf1 = NMF(n_components=10, random_state=42)\n",
    "W1 = nmf1.fit_transform(X1)\n",
    "H1 = nmf1.components_\n",
    "\n",
    "# NMF on BBB\n",
    "nmf2 = NMF(n_components=10, random_state=42)\n",
    "W2 = nmf2.fit_transform(X2)\n",
    "H2 = nmf2.components_"
   ]
  },
  {
   "cell_type": "code",
   "execution_count": 50,
   "metadata": {},
   "outputs": [
    {
     "name": "stdout",
     "output_type": "stream",
     "text": [
      "Trustpilot Topic #1: love absolutely pup puppy getting product monthly guy company snack\n",
      "Trustpilot Topic #2: great product box company quality service experience value toys toy\n",
      "Trustpilot Topic #3: box bark first amazing get month excited next wait super\n",
      "Trustpilot Topic #4: toy treat quality month good new get fun pup one\n",
      "Trustpilot Topic #5: barkbox first amazing pup best month happy always get every\n",
      "Trustpilot Topic #6: service customer excellent amazing best product wonderful always ever company\n",
      "Trustpilot Topic #7: loved first box absolutely puppy pup next wait treat bella\n",
      "Trustpilot Topic #8: dog happy box absolutely excited get company know every monthly\n",
      "Trustpilot Topic #9: awesome product company guy box baby toys experience job everyone\n",
      "Trustpilot Topic #10: everything perfect pup got enjoyed box thank received next one\n"
     ]
    }
   ],
   "source": [
    "feature_names1 = vectorizer1.get_feature_names_out()\n",
    "\n",
    "for topic_idx, topic in enumerate(H1):\n",
    "    top_words_idx = topic.argsort()[:-11:-1]\n",
    "    top_words = [feature_names1[i] for i in top_words_idx]\n",
    "    print(f\"Trustpilot Topic #{topic_idx + 1}: {' '.join(top_words)}\")"
   ]
  },
  {
   "cell_type": "code",
   "execution_count": 51,
   "metadata": {},
   "outputs": [
    {
     "name": "stdout",
     "output_type": "stream",
     "text": [
      "BBB Topic #1: response number sent getting call phone horrible email time cancel\n",
      "BBB Topic #2: box purchasing sure treat toy dog three first service charged\n",
      "BBB Topic #3: year notify no thought they renewing stuck couple want could\n",
      "BBB Topic #4: address old change go next login try account email box\n",
      "BBB Topic #5: garbage less torn messenger money text tecue apart obstruction debit\n",
      "BBB Topic #6: issue pug 11th followed since ups back thing contact ve\n",
      "BBB Topic #7: time someone manage reviewed anywhere ahold gift without purchased multiple\n",
      "BBB Topic #8: double free offer first order october box told promotion paid\n",
      "BBB Topic #9: keep dishonest impossible frustrating charging deserve credit rating cancel even\n",
      "BBB Topic #10: talked cancelled help ppl fraudulent different trying horrible response service\n"
     ]
    }
   ],
   "source": [
    "feature_names2 = vectorizer2.get_feature_names_out()\n",
    "\n",
    "for topic_idx, topic in enumerate(H2):\n",
    "    top_words_idx = topic.argsort()[:-11:-1]\n",
    "    top_words = [feature_names2[i] for i in top_words_idx]\n",
    "    print(f\"BBB Topic #{topic_idx + 1}: {' '.join(top_words)}\")"
   ]
  }
 ],
 "metadata": {
  "kernelspec": {
   "display_name": ".venv",
   "language": "python",
   "name": "python3"
  },
  "language_info": {
   "codemirror_mode": {
    "name": "ipython",
    "version": 3
   },
   "file_extension": ".py",
   "mimetype": "text/x-python",
   "name": "python",
   "nbconvert_exporter": "python",
   "pygments_lexer": "ipython3",
   "version": "3.13.2"
  }
 },
 "nbformat": 4,
 "nbformat_minor": 2
}
