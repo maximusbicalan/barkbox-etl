{
 "cells": [
  {
   "cell_type": "code",
   "execution_count": null,
   "metadata": {},
   "outputs": [
    {
     "name": "stderr",
     "output_type": "stream",
     "text": [
      "[nltk_data] Downloading package stopwords to\n",
      "[nltk_data]     /Users/melchorbicalan/nltk_data...\n",
      "[nltk_data]   Package stopwords is already up-to-date!\n",
      "[nltk_data] Downloading package wordnet to\n",
      "[nltk_data]     /Users/melchorbicalan/nltk_data...\n",
      "[nltk_data]   Package wordnet is already up-to-date!\n"
     ]
    },
    {
     "data": {
      "text/plain": [
       "True"
      ]
     },
     "execution_count": 12,
     "metadata": {},
     "output_type": "execute_result"
    }
   ],
   "source": [
    "import nltk as tk \n",
    "from nltk.tokenize import word_tokenize\n",
    "from nltk.corpus import stopwords\n",
    "from nltk.stem import WordNetLemmatizer\n",
    "import re\n",
    "import pandas as pd\n",
    "\n",
    "tk.download('stopwords')\n",
    "tk.download('wordnet')"
   ]
  },
  {
   "cell_type": "code",
   "execution_count": 4,
   "metadata": {},
   "outputs": [],
   "source": [
    "# load cleaned data\n",
    "trustpilot = pd.read_csv('../cleaned_trustpilot_reviews.csv')\n",
    "bbb = pd.read_csv('../cleaned_bbb_reviews.csv')\n"
   ]
  },
  {
   "cell_type": "code",
   "execution_count": 5,
   "metadata": {},
   "outputs": [],
   "source": [
    "# load the text data for nlp\n",
    "trustpilot_corpus1 = trustpilot['Review Body'].values\n",
    "trustpilot_corpus2 = trustpilot['Review Heading'].values\n",
    "bbb_corpus = bbb['Review Body'].values\n"
   ]
  },
  {
   "cell_type": "code",
   "execution_count": 6,
   "metadata": {},
   "outputs": [],
   "source": [
    "\n",
    "# consider cases where review body or review heading contains emojis\n",
    "def remove_emojis(text):\n",
    "    emoji_pattern = re.compile(\n",
    "        \"[\"\n",
    "        \"\\U0001F600-\\U0001F64F\"  # Emoticons\n",
    "        \"\\U0001F300-\\U0001F5FF\"  # Symbols & Pictographs\n",
    "        \"\\U0001F680-\\U0001F6FF\"  # Transport & Map\n",
    "        \"\\U0001F1E0-\\U0001F1FF\"  # Flags (iOS)\n",
    "        \"\\U00002702-\\U000027B0\"  # Dingbats\n",
    "        \"\\U000024C2-\\U0001F251\"  # Enclosed characters\n",
    "        \"]+\", flags=re.UNICODE\n",
    "    )\n",
    "    return emoji_pattern.sub(r'', text)\n",
    "# consider cases where review heading contains ellipsis at the end. Ignore these instances\n",
    "collect_valid_rhead = [remove_emojis(review) for review in trustpilot_corpus2 if review.endswith(('…','...')) == False]\n",
    "# consider cases where review body is null\n",
    "collect_valid_rbody = [remove_emojis(review) for review in trustpilot_corpus1 if type(review) == str]\n"
   ]
  },
  {
   "cell_type": "code",
   "execution_count": 7,
   "metadata": {},
   "outputs": [],
   "source": [
    "# tokenize the texts\n",
    "# each list is a multidimensional lists with varying lengths\n",
    "tokenized_tp_rbody = [word_tokenize(review) for review in collect_valid_rbody]\n",
    "tokenized_tp_rhead = [word_tokenize(review) for review in collect_valid_rhead]\n",
    "tokenized_bbb_rbody = [word_tokenize(review) for review in bbb_corpus]"
   ]
  },
  {
   "cell_type": "code",
   "execution_count": 8,
   "metadata": {},
   "outputs": [
    {
     "data": {
      "text/plain": [
       "198"
      ]
     },
     "execution_count": 8,
     "metadata": {},
     "output_type": "execute_result"
    }
   ],
   "source": [
    "# implement stop words\n",
    "stop_words = set(stopwords.words('english'))\n",
    "len(stop_words)"
   ]
  },
  {
   "cell_type": "code",
   "execution_count": 9,
   "metadata": {},
   "outputs": [],
   "source": [
    "#clean tokenized texts\n",
    "def clean_text(text, stop_words):\n",
    "    cleaned_text = []\n",
    "    for word in text:\n",
    "        if word.lower() not in stop_words:\n",
    "            cleaned_text.append(word)\n",
    "    return cleaned_text\n",
    "\n",
    "cleaned_tp_rbody = [clean_text(review, stop_words) for review in tokenized_tp_rbody]\n",
    "cleaned_tp_rhead = [clean_text(review, stop_words) for review in tokenized_tp_rhead]\n",
    "cleaned_bbb_rbody = [clean_text(review, stop_words) for review in tokenized_bbb_rbody]\n"
   ]
  },
  {
   "cell_type": "code",
   "execution_count": 15,
   "metadata": {},
   "outputs": [
    {
     "data": {
      "text/plain": [
       "['signed',\n",
       " 'BarkBox',\n",
       " 'subscription',\n",
       " 'Facebook',\n",
       " 'Ad/link',\n",
       " '.',\n",
       " 'box',\n",
       " 'arrived',\n",
       " 'every',\n",
       " 'toy',\n",
       " 'made',\n",
       " 'China',\n",
       " '(',\n",
       " 'vet',\n",
       " 'strongly',\n",
       " 'discouraged',\n",
       " 'toys',\n",
       " 'China',\n",
       " 'dog',\n",
       " ')',\n",
       " '.',\n",
       " 'refused',\n",
       " 'exchange',\n",
       " 'accept',\n",
       " 'return',\n",
       " '.',\n",
       " 'cancel',\n",
       " 'subscription',\n",
       " 'request',\n",
       " '.',\n",
       " 'disappointed',\n",
       " 'policies',\n",
       " 'customer',\n",
       " 'service',\n",
       " '.']"
      ]
     },
     "execution_count": 15,
     "metadata": {},
     "output_type": "execute_result"
    }
   ],
   "source": [
    "cleaned_tp_rbody[0]"
   ]
  },
  {
   "cell_type": "code",
   "execution_count": 16,
   "metadata": {},
   "outputs": [],
   "source": [
    "# Lemmatization\n",
    "lemmatizer = WordNetLemmatizer()\n",
    "lemmatized_tp_rbody = [[lemmatizer.lemmatize(word) for word in review] for review in cleaned_tp_rbody]\n",
    "lemmatized_tp_rhead = [[lemmatizer.lemmatize(word) for word in review] for review in cleaned_tp_rhead]\n",
    "lemmatized_bbb_rbody = [[lemmatizer.lemmatize(word) for word in review] for review in cleaned_bbb_rbody]\n"
   ]
  }
 ],
 "metadata": {
  "kernelspec": {
   "display_name": ".venv",
   "language": "python",
   "name": "python3"
  },
  "language_info": {
   "codemirror_mode": {
    "name": "ipython",
    "version": 3
   },
   "file_extension": ".py",
   "mimetype": "text/x-python",
   "name": "python",
   "nbconvert_exporter": "python",
   "pygments_lexer": "ipython3",
   "version": "3.13.2"
  }
 },
 "nbformat": 4,
 "nbformat_minor": 2
}
