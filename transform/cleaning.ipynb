{
 "cells": [
  {
   "cell_type": "code",
   "execution_count": 8,
   "metadata": {},
   "outputs": [],
   "source": [
    "# import modules\n",
    "import pandas as pd \n",
    "import numpy as np \n",
    "import nltk as tk "
   ]
  },
  {
   "cell_type": "code",
   "execution_count": 9,
   "metadata": {},
   "outputs": [],
   "source": [
    "# load data \n",
    "bbb_reviews = pd.read_csv('../bbb_barkbox_reviews.csv', encoding='utf-8')\n",
    "trustpilot_reviews = pd.read_csv('../trustpilot_barkbox_reviews.csv', encoding='utf-8')"
   ]
  },
  {
   "cell_type": "code",
   "execution_count": 10,
   "metadata": {},
   "outputs": [
    {
     "name": "stdout",
     "output_type": "stream",
     "text": [
      "(128, 5) (7814, 6)\n"
     ]
    }
   ],
   "source": [
    "# get shapes of each dataset\n",
    "print(bbb_reviews.shape, trustpilot_reviews.shape)"
   ]
  }
 ],
 "metadata": {
  "language_info": {
   "name": "python"
  }
 },
 "nbformat": 4,
 "nbformat_minor": 2
}
