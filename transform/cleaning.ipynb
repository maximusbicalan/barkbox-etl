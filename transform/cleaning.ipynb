{
 "cells": [
  {
   "cell_type": "code",
   "execution_count": 115,
   "metadata": {},
   "outputs": [],
   "source": [
    "# import modules\n",
    "import pandas as pd \n",
    "import numpy as np \n",
    "import re"
   ]
  },
  {
   "cell_type": "code",
   "execution_count": 84,
   "metadata": {},
   "outputs": [],
   "source": [
    "# load data \n",
    "bbb_reviews = pd.read_csv('../bbb_barkbox_reviews.csv', encoding='utf-8')\n",
    "trustpilot_reviews = pd.read_csv('../trustpilot_barkbox_reviews.csv', encoding='utf-8')"
   ]
  },
  {
   "cell_type": "code",
   "execution_count": 26,
   "metadata": {},
   "outputs": [
    {
     "name": "stdout",
     "output_type": "stream",
     "text": [
      "(128, 5) (7814, 6)\n"
     ]
    }
   ],
   "source": [
    "# get shapes of each dataset\n",
    "print(bbb_reviews.shape, trustpilot_reviews.shape)"
   ]
  },
  {
   "cell_type": "code",
   "execution_count": 85,
   "metadata": {},
   "outputs": [
    {
     "data": {
      "text/html": [
       "<div>\n",
       "<style scoped>\n",
       "    .dataframe tbody tr th:only-of-type {\n",
       "        vertical-align: middle;\n",
       "    }\n",
       "\n",
       "    .dataframe tbody tr th {\n",
       "        vertical-align: top;\n",
       "    }\n",
       "\n",
       "    .dataframe thead th {\n",
       "        text-align: right;\n",
       "    }\n",
       "</style>\n",
       "<table border=\"1\" class=\"dataframe\">\n",
       "  <thead>\n",
       "    <tr style=\"text-align: right;\">\n",
       "      <th></th>\n",
       "      <th>Name</th>\n",
       "      <th>Location</th>\n",
       "      <th>Review Heading</th>\n",
       "      <th>Review Body</th>\n",
       "      <th>Review Date</th>\n",
       "      <th>Star Rating</th>\n",
       "    </tr>\n",
       "  </thead>\n",
       "  <tbody>\n",
       "    <tr>\n",
       "      <th>0</th>\n",
       "      <td>Karen</td>\n",
       "      <td>US</td>\n",
       "      <td>Buyer Beware: No Exchanges or Returns…</td>\n",
       "      <td>I signed up for a BarkBox subscription from a ...</td>\n",
       "      <td>Date of experience: March 13, 2025</td>\n",
       "      <td>Rated 2 out of 5 stars</td>\n",
       "    </tr>\n",
       "    <tr>\n",
       "      <th>1</th>\n",
       "      <td>Shanelle cuddihy</td>\n",
       "      <td>US</td>\n",
       "      <td>LOVE barkbox but…</td>\n",
       "      <td>LOVE barkbox!! I have a 2 year old boykin span...</td>\n",
       "      <td>Date of experience: March 11, 2025</td>\n",
       "      <td>Rated 4 out of 5 stars</td>\n",
       "    </tr>\n",
       "    <tr>\n",
       "      <th>2</th>\n",
       "      <td>Dana</td>\n",
       "      <td>LU</td>\n",
       "      <td>Go to your local pet store instead</td>\n",
       "      <td>I've gotten three super chewer boxes for my do...</td>\n",
       "      <td>Date of experience: March 09, 2025</td>\n",
       "      <td>Rated 1 out of 5 stars</td>\n",
       "    </tr>\n",
       "  </tbody>\n",
       "</table>\n",
       "</div>"
      ],
      "text/plain": [
       "               Name Location                          Review Heading  \\\n",
       "0             Karen       US  Buyer Beware: No Exchanges or Returns…   \n",
       "1  Shanelle cuddihy       US                       LOVE barkbox but…   \n",
       "2              Dana       LU      Go to your local pet store instead   \n",
       "\n",
       "                                         Review Body  \\\n",
       "0  I signed up for a BarkBox subscription from a ...   \n",
       "1  LOVE barkbox!! I have a 2 year old boykin span...   \n",
       "2  I've gotten three super chewer boxes for my do...   \n",
       "\n",
       "                          Review Date             Star Rating  \n",
       "0  Date of experience: March 13, 2025  Rated 2 out of 5 stars  \n",
       "1  Date of experience: March 11, 2025  Rated 4 out of 5 stars  \n",
       "2  Date of experience: March 09, 2025  Rated 1 out of 5 stars  "
      ]
     },
     "execution_count": 85,
     "metadata": {},
     "output_type": "execute_result"
    }
   ],
   "source": [
    "trustpilot_reviews.head(3)"
   ]
  },
  {
   "cell_type": "code",
   "execution_count": 86,
   "metadata": {},
   "outputs": [
    {
     "data": {
      "text/html": [
       "<div>\n",
       "<style scoped>\n",
       "    .dataframe tbody tr th:only-of-type {\n",
       "        vertical-align: middle;\n",
       "    }\n",
       "\n",
       "    .dataframe tbody tr th {\n",
       "        vertical-align: top;\n",
       "    }\n",
       "\n",
       "    .dataframe thead th {\n",
       "        text-align: right;\n",
       "    }\n",
       "</style>\n",
       "<table border=\"1\" class=\"dataframe\">\n",
       "  <thead>\n",
       "    <tr style=\"text-align: right;\">\n",
       "      <th></th>\n",
       "      <th>Unnamed: 0</th>\n",
       "      <th>Name</th>\n",
       "      <th>Star Rating</th>\n",
       "      <th>Date</th>\n",
       "      <th>Review</th>\n",
       "    </tr>\n",
       "  </thead>\n",
       "  <tbody>\n",
       "    <tr>\n",
       "      <th>0</th>\n",
       "      <td>0</td>\n",
       "      <td>Thomas L</td>\n",
       "      <td>1 star</td>\n",
       "      <td>03/18/2025</td>\n",
       "      <td>After attempting to change my address multiple...</td>\n",
       "    </tr>\n",
       "    <tr>\n",
       "      <th>1</th>\n",
       "      <td>1</td>\n",
       "      <td>Samantha H</td>\n",
       "      <td>1 star</td>\n",
       "      <td>02/10/2025</td>\n",
       "      <td>Horrible customer service ***** I have been tr...</td>\n",
       "    </tr>\n",
       "    <tr>\n",
       "      <th>2</th>\n",
       "      <td>2</td>\n",
       "      <td>Tammi G</td>\n",
       "      <td>1 star</td>\n",
       "      <td>02/10/2025</td>\n",
       "      <td>They say if you need to contact them it has to...</td>\n",
       "    </tr>\n",
       "  </tbody>\n",
       "</table>\n",
       "</div>"
      ],
      "text/plain": [
       "   Unnamed: 0        Name Star Rating        Date  \\\n",
       "0           0    Thomas L      1 star  03/18/2025   \n",
       "1           1  Samantha H      1 star  02/10/2025   \n",
       "2           2     Tammi G      1 star  02/10/2025   \n",
       "\n",
       "                                              Review  \n",
       "0  After attempting to change my address multiple...  \n",
       "1  Horrible customer service ***** I have been tr...  \n",
       "2  They say if you need to contact them it has to...  "
      ]
     },
     "execution_count": 86,
     "metadata": {},
     "output_type": "execute_result"
    }
   ],
   "source": [
    "bbb_reviews.head(3)\n"
   ]
  },
  {
   "cell_type": "code",
   "execution_count": 31,
   "metadata": {},
   "outputs": [
    {
     "name": "stdout",
     "output_type": "stream",
     "text": [
      "BBB \n",
      " Name           object\n",
      "Star Rating    object\n",
      "Date           object\n",
      "Review         object\n",
      "dtype: object\n",
      "Trustpilot \n",
      " Name              object\n",
      "Location          object\n",
      "Review Heading    object\n",
      "Review Body       object\n",
      "Review Date       object\n",
      "Star Rating       object\n",
      "dtype: object\n"
     ]
    }
   ],
   "source": [
    "#Inspect data types of each dataset\n",
    "print(\"BBB \\n\", bbb_reviews.dtypes)\n",
    "print(\"Trustpilot \\n\", trustpilot_reviews.dtypes)"
   ]
  },
  {
   "cell_type": "code",
   "execution_count": 87,
   "metadata": {},
   "outputs": [],
   "source": [
    "# extract the first number occurrence of each row in the 'rating' column for both datasets\n",
    "trustpilot_reviews['Star Rating'] = trustpilot_reviews['Star Rating'].str.extract(r'(\\d+)')\n",
    "bbb_reviews['Star Rating'] = bbb_reviews['Star Rating' ].str.extract(r'(\\d+)')"
   ]
  },
  {
   "cell_type": "code",
   "execution_count": 88,
   "metadata": {},
   "outputs": [
    {
     "data": {
      "text/html": [
       "<div>\n",
       "<style scoped>\n",
       "    .dataframe tbody tr th:only-of-type {\n",
       "        vertical-align: middle;\n",
       "    }\n",
       "\n",
       "    .dataframe tbody tr th {\n",
       "        vertical-align: top;\n",
       "    }\n",
       "\n",
       "    .dataframe thead th {\n",
       "        text-align: right;\n",
       "    }\n",
       "</style>\n",
       "<table border=\"1\" class=\"dataframe\">\n",
       "  <thead>\n",
       "    <tr style=\"text-align: right;\">\n",
       "      <th></th>\n",
       "      <th>Name</th>\n",
       "      <th>Star Rating</th>\n",
       "      <th>Date</th>\n",
       "      <th>Review</th>\n",
       "    </tr>\n",
       "  </thead>\n",
       "  <tbody>\n",
       "    <tr>\n",
       "      <th>0</th>\n",
       "      <td>Thomas L</td>\n",
       "      <td>1</td>\n",
       "      <td>03/18/2025</td>\n",
       "      <td>After attempting to change my address multiple...</td>\n",
       "    </tr>\n",
       "    <tr>\n",
       "      <th>1</th>\n",
       "      <td>Samantha H</td>\n",
       "      <td>1</td>\n",
       "      <td>02/10/2025</td>\n",
       "      <td>Horrible customer service ***** I have been tr...</td>\n",
       "    </tr>\n",
       "    <tr>\n",
       "      <th>2</th>\n",
       "      <td>Tammi G</td>\n",
       "      <td>1</td>\n",
       "      <td>02/10/2025</td>\n",
       "      <td>They say if you need to contact them it has to...</td>\n",
       "    </tr>\n",
       "  </tbody>\n",
       "</table>\n",
       "</div>"
      ],
      "text/plain": [
       "         Name Star Rating        Date  \\\n",
       "0    Thomas L           1  03/18/2025   \n",
       "1  Samantha H           1  02/10/2025   \n",
       "2     Tammi G           1  02/10/2025   \n",
       "\n",
       "                                              Review  \n",
       "0  After attempting to change my address multiple...  \n",
       "1  Horrible customer service ***** I have been tr...  \n",
       "2  They say if you need to contact them it has to...  "
      ]
     },
     "execution_count": 88,
     "metadata": {},
     "output_type": "execute_result"
    }
   ],
   "source": [
    "# drop columns that are not needed\n",
    "bbb_reviews = bbb_reviews.drop(columns=['Unnamed: 0'])\n",
    "bbb_reviews.head(3)"
   ]
  },
  {
   "cell_type": "code",
   "execution_count": 97,
   "metadata": {},
   "outputs": [
    {
     "data": {
      "text/html": [
       "<div>\n",
       "<style scoped>\n",
       "    .dataframe tbody tr th:only-of-type {\n",
       "        vertical-align: middle;\n",
       "    }\n",
       "\n",
       "    .dataframe tbody tr th {\n",
       "        vertical-align: top;\n",
       "    }\n",
       "\n",
       "    .dataframe thead th {\n",
       "        text-align: right;\n",
       "    }\n",
       "</style>\n",
       "<table border=\"1\" class=\"dataframe\">\n",
       "  <thead>\n",
       "    <tr style=\"text-align: right;\">\n",
       "      <th></th>\n",
       "      <th>0</th>\n",
       "    </tr>\n",
       "  </thead>\n",
       "  <tbody>\n",
       "    <tr>\n",
       "      <th>0</th>\n",
       "      <td>March 13, 2025</td>\n",
       "    </tr>\n",
       "    <tr>\n",
       "      <th>1</th>\n",
       "      <td>March 11, 2025</td>\n",
       "    </tr>\n",
       "    <tr>\n",
       "      <th>2</th>\n",
       "      <td>March 09, 2025</td>\n",
       "    </tr>\n",
       "    <tr>\n",
       "      <th>3</th>\n",
       "      <td>March 01, 2025</td>\n",
       "    </tr>\n",
       "    <tr>\n",
       "      <th>4</th>\n",
       "      <td>December 25, 2024</td>\n",
       "    </tr>\n",
       "  </tbody>\n",
       "</table>\n",
       "</div>"
      ],
      "text/plain": [
       "                   0\n",
       "0     March 13, 2025\n",
       "1     March 11, 2025\n",
       "2     March 09, 2025\n",
       "3     March 01, 2025\n",
       "4  December 25, 2024"
      ]
     },
     "execution_count": 97,
     "metadata": {},
     "output_type": "execute_result"
    }
   ],
   "source": [
    "# extract the proper date format in trustpilot dataset\n",
    "extracted_dates = trustpilot_reviews['Review Date'].str.extract(r'Date of experience:\\s+([A-Za-z]+\\s+\\d{1,2},\\s+\\d{4})')\n",
    "extracted_dates.head()"
   ]
  },
  {
   "cell_type": "code",
   "execution_count": 107,
   "metadata": {},
   "outputs": [
    {
     "data": {
      "text/html": [
       "<div>\n",
       "<style scoped>\n",
       "    .dataframe tbody tr th:only-of-type {\n",
       "        vertical-align: middle;\n",
       "    }\n",
       "\n",
       "    .dataframe tbody tr th {\n",
       "        vertical-align: top;\n",
       "    }\n",
       "\n",
       "    .dataframe thead th {\n",
       "        text-align: right;\n",
       "    }\n",
       "</style>\n",
       "<table border=\"1\" class=\"dataframe\">\n",
       "  <thead>\n",
       "    <tr style=\"text-align: right;\">\n",
       "      <th></th>\n",
       "      <th>Name</th>\n",
       "      <th>Location</th>\n",
       "      <th>Review Heading</th>\n",
       "      <th>Review Body</th>\n",
       "      <th>Review Date</th>\n",
       "      <th>Star Rating</th>\n",
       "    </tr>\n",
       "  </thead>\n",
       "  <tbody>\n",
       "    <tr>\n",
       "      <th>0</th>\n",
       "      <td>Karen</td>\n",
       "      <td>US</td>\n",
       "      <td>Buyer Beware: No Exchanges or Returns…</td>\n",
       "      <td>I signed up for a BarkBox subscription from a ...</td>\n",
       "      <td>2025-03-13</td>\n",
       "      <td>2</td>\n",
       "    </tr>\n",
       "    <tr>\n",
       "      <th>1</th>\n",
       "      <td>Shanelle cuddihy</td>\n",
       "      <td>US</td>\n",
       "      <td>LOVE barkbox but…</td>\n",
       "      <td>LOVE barkbox!! I have a 2 year old boykin span...</td>\n",
       "      <td>2025-03-11</td>\n",
       "      <td>4</td>\n",
       "    </tr>\n",
       "    <tr>\n",
       "      <th>2</th>\n",
       "      <td>Dana</td>\n",
       "      <td>LU</td>\n",
       "      <td>Go to your local pet store instead</td>\n",
       "      <td>I've gotten three super chewer boxes for my do...</td>\n",
       "      <td>2025-03-09</td>\n",
       "      <td>1</td>\n",
       "    </tr>\n",
       "  </tbody>\n",
       "</table>\n",
       "</div>"
      ],
      "text/plain": [
       "               Name Location                          Review Heading  \\\n",
       "0             Karen       US  Buyer Beware: No Exchanges or Returns…   \n",
       "1  Shanelle cuddihy       US                       LOVE barkbox but…   \n",
       "2              Dana       LU      Go to your local pet store instead   \n",
       "\n",
       "                                         Review Body Review Date Star Rating  \n",
       "0  I signed up for a BarkBox subscription from a ...  2025-03-13           2  \n",
       "1  LOVE barkbox!! I have a 2 year old boykin span...  2025-03-11           4  \n",
       "2  I've gotten three super chewer boxes for my do...  2025-03-09           1  "
      ]
     },
     "execution_count": 107,
     "metadata": {},
     "output_type": "execute_result"
    }
   ],
   "source": [
    "#apply transformation to the entire Review Date column\n",
    "trustpilot_reviews['Review Date'] = extracted_dates[0].apply(lambda x: pd.to_datetime(x, format='%B %d, %Y').date())\n",
    "trustpilot_reviews.head(3)"
   ]
  },
  {
   "cell_type": "code",
   "execution_count": 109,
   "metadata": {},
   "outputs": [
    {
     "data": {
      "text/html": [
       "<div>\n",
       "<style scoped>\n",
       "    .dataframe tbody tr th:only-of-type {\n",
       "        vertical-align: middle;\n",
       "    }\n",
       "\n",
       "    .dataframe tbody tr th {\n",
       "        vertical-align: top;\n",
       "    }\n",
       "\n",
       "    .dataframe thead th {\n",
       "        text-align: right;\n",
       "    }\n",
       "</style>\n",
       "<table border=\"1\" class=\"dataframe\">\n",
       "  <thead>\n",
       "    <tr style=\"text-align: right;\">\n",
       "      <th></th>\n",
       "      <th>Name</th>\n",
       "      <th>Star Rating</th>\n",
       "      <th>Review Date</th>\n",
       "      <th>Review Body</th>\n",
       "    </tr>\n",
       "  </thead>\n",
       "  <tbody>\n",
       "    <tr>\n",
       "      <th>0</th>\n",
       "      <td>Thomas L</td>\n",
       "      <td>1</td>\n",
       "      <td>03/18/2025</td>\n",
       "      <td>After attempting to change my address multiple...</td>\n",
       "    </tr>\n",
       "    <tr>\n",
       "      <th>1</th>\n",
       "      <td>Samantha H</td>\n",
       "      <td>1</td>\n",
       "      <td>02/10/2025</td>\n",
       "      <td>Horrible customer service ***** I have been tr...</td>\n",
       "    </tr>\n",
       "    <tr>\n",
       "      <th>2</th>\n",
       "      <td>Tammi G</td>\n",
       "      <td>1</td>\n",
       "      <td>02/10/2025</td>\n",
       "      <td>They say if you need to contact them it has to...</td>\n",
       "    </tr>\n",
       "  </tbody>\n",
       "</table>\n",
       "</div>"
      ],
      "text/plain": [
       "         Name Star Rating Review Date  \\\n",
       "0    Thomas L           1  03/18/2025   \n",
       "1  Samantha H           1  02/10/2025   \n",
       "2     Tammi G           1  02/10/2025   \n",
       "\n",
       "                                         Review Body  \n",
       "0  After attempting to change my address multiple...  \n",
       "1  Horrible customer service ***** I have been tr...  \n",
       "2  They say if you need to contact them it has to...  "
      ]
     },
     "execution_count": 109,
     "metadata": {},
     "output_type": "execute_result"
    }
   ],
   "source": [
    "# rename BBB columns to match trustpilot columns\n",
    "bbb_reviews.rename(columns={'Date':'Review Date', 'Review': 'Review Body'}, inplace=True)\n",
    "bbb_reviews.head(3)"
   ]
  },
  {
   "cell_type": "code",
   "execution_count": 113,
   "metadata": {},
   "outputs": [
    {
     "data": {
      "text/html": [
       "<div>\n",
       "<style scoped>\n",
       "    .dataframe tbody tr th:only-of-type {\n",
       "        vertical-align: middle;\n",
       "    }\n",
       "\n",
       "    .dataframe tbody tr th {\n",
       "        vertical-align: top;\n",
       "    }\n",
       "\n",
       "    .dataframe thead th {\n",
       "        text-align: right;\n",
       "    }\n",
       "</style>\n",
       "<table border=\"1\" class=\"dataframe\">\n",
       "  <thead>\n",
       "    <tr style=\"text-align: right;\">\n",
       "      <th></th>\n",
       "      <th>Name</th>\n",
       "      <th>Star Rating</th>\n",
       "      <th>Review Date</th>\n",
       "      <th>Review Body</th>\n",
       "    </tr>\n",
       "  </thead>\n",
       "  <tbody>\n",
       "    <tr>\n",
       "      <th>0</th>\n",
       "      <td>Thomas L</td>\n",
       "      <td>1</td>\n",
       "      <td>2025-03-18</td>\n",
       "      <td>After attempting to change my address multiple...</td>\n",
       "    </tr>\n",
       "    <tr>\n",
       "      <th>1</th>\n",
       "      <td>Samantha H</td>\n",
       "      <td>1</td>\n",
       "      <td>2025-02-10</td>\n",
       "      <td>Horrible customer service ***** I have been tr...</td>\n",
       "    </tr>\n",
       "    <tr>\n",
       "      <th>2</th>\n",
       "      <td>Tammi G</td>\n",
       "      <td>1</td>\n",
       "      <td>2025-02-10</td>\n",
       "      <td>They say if you need to contact them it has to...</td>\n",
       "    </tr>\n",
       "  </tbody>\n",
       "</table>\n",
       "</div>"
      ],
      "text/plain": [
       "         Name Star Rating Review Date  \\\n",
       "0    Thomas L           1  2025-03-18   \n",
       "1  Samantha H           1  2025-02-10   \n",
       "2     Tammi G           1  2025-02-10   \n",
       "\n",
       "                                         Review Body  \n",
       "0  After attempting to change my address multiple...  \n",
       "1  Horrible customer service ***** I have been tr...  \n",
       "2  They say if you need to contact them it has to...  "
      ]
     },
     "execution_count": 113,
     "metadata": {},
     "output_type": "execute_result"
    }
   ],
   "source": [
    "bbb_reviews['Review Date'] = pd.to_datetime(bbb_reviews['Review Date']).dt.date\n",
    "bbb_reviews.head(3)"
   ]
  },
  {
   "cell_type": "code",
   "execution_count": null,
   "metadata": {},
   "outputs": [],
   "source": [
    "# save the cleaned datasets\n",
    "bbb_reviews.to_csv('../cleaned_bbb_reviews.csv', index=False)\n",
    "trustpilot_reviews.to_csv('../cleaned_trustpilot_reviews.csv', index=False)"
   ]
  }
 ],
 "metadata": {
  "kernelspec": {
   "display_name": ".venv",
   "language": "python",
   "name": "python3"
  },
  "language_info": {
   "codemirror_mode": {
    "name": "ipython",
    "version": 3
   },
   "file_extension": ".py",
   "mimetype": "text/x-python",
   "name": "python",
   "nbconvert_exporter": "python",
   "pygments_lexer": "ipython3",
   "version": "3.13.2"
  }
 },
 "nbformat": 4,
 "nbformat_minor": 2
}
